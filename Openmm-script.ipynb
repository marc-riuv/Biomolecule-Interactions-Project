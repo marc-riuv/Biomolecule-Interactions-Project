{
 "cells": [
  {
   "cell_type": "code",
   "execution_count": 1,
   "id": "f9032363",
   "metadata": {},
   "outputs": [],
   "source": [
    "from simtk.openmm.app import *\n",
    "from simtk.openmm import *\n",
    "from simtk.unit import *\n",
    "from sys import stdout\n",
    "import os\n",
    "import time\n",
    "\n",
    "pdb = PDBFile('NF1-SPRED_D1217G-processed.pdb')\n",
    "forcefield = ForceField('amber14-all.xml', 'amber14/tip3pfb.xml')\n",
    "system = forcefield.createSystem(pdb.topology, nonbondedMethod=PME,\n",
    "        nonbondedCutoff=1*nanometer, constraints=HBonds)\n",
    "\n",
    "PDBFile.writeFile(pdb.topology, pdb.positions, open('NF1-SPRED_D1217G-opemm.pdb','w'))\n",
    "\n",
    "checkpoint_file = 'checkpoint.cpt'\n",
    "overwrite = True\n",
    "replica = 1"
   ]
  },
  {
   "cell_type": "code",
   "execution_count": 2,
   "id": "e42c9b93",
   "metadata": {},
   "outputs": [
    {
     "name": "stdout",
     "output_type": "stream",
     "text": [
      "#\"Step\",\"Potential Energy (kJ/mole)\",\"Temperature (K)\"\n",
      "10000,-1580933.3331094359,300.4639768254012\n",
      "20000,-1578581.6476784921,300.6260605273652\n",
      "30000,-1579770.8842847922,300.08147770619166\n",
      "40000,-1582004.9201688361,299.86231999776413\n",
      "50000,-1582099.9843595335,298.1648072449374\n",
      "60000,-1582063.7584004218,301.66009529105224\n",
      "70000,-1581344.9542537506,298.9626692182171\n",
      "80000,-1581343.2750216287,300.9411049725288\n",
      "90000,-1582358.7875311978,298.7509532274964\n",
      "100000,-1582194.1198111705,301.72687277838384\n",
      "110000,-1581910.6595774947,300.84893578901784\n",
      "120000,-1582223.7319677412,299.319866636512\n",
      "130000,-1583716.4469778526,296.71260023628315\n",
      "140000,-1579879.2350872129,299.9287713815859\n",
      "150000,-1580841.7540857478,298.52486398866023\n",
      "160000,-1582147.160865125,300.41202511693524\n",
      "170000,-1583686.559370059,299.4063372880296\n",
      "180000,-1583088.1785477302,301.117928830778\n",
      "190000,-1583121.4215649809,299.47601845020773\n",
      "200000,-1581381.0071028285,299.6550745015734\n",
      "210000,-1582904.2785504558,300.34943253443566\n",
      "220000,-1582653.4594224473,301.5684172938459\n",
      "230000,-1581738.6956926591,300.0943736676903\n",
      "240000,-1582593.2413810191,299.3557627081651\n",
      "250000,-1585374.753108504,300.4693250330565\n",
      "260000,-1581243.6648272132,300.0360369128653\n",
      "270000,-1584310.5122551222,299.7641239648066\n",
      "280000,-1582877.0888934482,300.38596217032847\n",
      "290000,-1581141.6563060842,300.4668678955145\n",
      "300000,-1578649.8289771138,299.5161186396059\n",
      "It ran for 41962.437230587006 s\n"
     ]
    }
   ],
   "source": [
    "integrator = LangevinMiddleIntegrator(300*kelvin, 1/picosecond, 0.002*picoseconds)\n",
    "simulation = Simulation(pdb.topology, system, integrator)\n",
    "\n",
    "if os.path.exists(checkpoint_file) and not overwrite:\n",
    "    with open(checkpoint_file, 'rb') as cpt:\n",
    "        simulation.context.loadCheckpoint(cpt.read())\n",
    "        \n",
    "else:\n",
    "    simulation.context.setPositions(pdb.positions)    \n",
    "    simulation.minimizeEnergy()\n",
    "    \n",
    "simulation.reporters.append(DCDReporter('output_NF1-SPRED_D1217G_'+str(replica).zfill(2)+'.dcd', 100))\n",
    "simulation.reporters.append(StateDataReporter(stdout, 10000, step=True,\n",
    "        potentialEnergy=True, temperature=True))\n",
    "simulation.reporters.append(CheckpointReporter(checkpoint_file, 100))\n",
    "start_time = time.time()\n",
    "simulation.step(300000)\n",
    "print('It ran for %s s' % (time.time() - start_time))\n"
   ]
  },
  {
   "cell_type": "code",
   "execution_count": 5,
   "id": "06307c32",
   "metadata": {},
   "outputs": [],
   "source": [
    "import mdtraj as md\n",
    "import numpy as np\n",
    "import matplotlib.pyplot as plt"
   ]
  },
  {
   "cell_type": "code",
   "execution_count": null,
   "id": "5375e710",
   "metadata": {},
   "outputs": [],
   "source": [
    "traj = md.load('output_NF1-SPRED_D1217G_'+str(replica).zfill(2)+'.dcd', top='NF1-SPRED_D1217G-opemm.pdb')\n",
    "traj.image_molecules(inplace=True)\n",
    "traj.save('output_NF1-SPRED_'+str(replica).zfill(2)+'_noPBC.dcd')"
   ]
  },
  {
   "cell_type": "code",
   "execution_count": null,
   "id": "a301f777",
   "metadata": {},
   "outputs": [],
   "source": [
    "def distance(index1, index2):\n",
    "    \n",
    "    atom1_xyz = traj.xyz[:,index1]\n",
    "    atom2_xyz = traj.xyz[:,index2]\n",
    "\n",
    "    d = np.linalg.norm(atom1_xyz - atom2_xyz, axis=1)\n",
    "    \n",
    "    return d"
   ]
  },
  {
   "cell_type": "code",
   "execution_count": null,
   "id": "9912dc9c",
   "metadata": {},
   "outputs": [],
   "source": [
    "atom1 = traj.topology.residue(0).atom('CA')\n",
    "atom2 = traj.topology.residue(40).atom('CA')"
   ]
  },
  {
   "cell_type": "code",
   "execution_count": null,
   "id": "501e32f6",
   "metadata": {},
   "outputs": [],
   "source": [
    "atom3 = traj.topology.residue(120).atom('CA')\n",
    "atom4 = traj.topology.residue(42).atom('CA')"
   ]
  },
  {
   "cell_type": "code",
   "execution_count": null,
   "id": "a3ee169d",
   "metadata": {},
   "outputs": [],
   "source": [
    "plt.plot(distance(atom1.index, atom2.index))\n",
    "plt.plot(distance(atom3.index, atom4.index))\n",
    "plt.ylim(0,5)\n",
    "plt.ylabel('Distance [Angstroms]')"
   ]
  },
  {
   "cell_type": "code",
   "execution_count": null,
   "id": "d9ff3c98",
   "metadata": {},
   "outputs": [],
   "source": []
  }
 ],
 "metadata": {
  "kernelspec": {
   "display_name": "Python 3",
   "language": "python",
   "name": "python3"
  },
  "language_info": {
   "codemirror_mode": {
    "name": "ipython",
    "version": 3
   },
   "file_extension": ".py",
   "mimetype": "text/x-python",
   "name": "python",
   "nbconvert_exporter": "python",
   "pygments_lexer": "ipython3",
   "version": "3.7.10"
  }
 },
 "nbformat": 4,
 "nbformat_minor": 5
}
