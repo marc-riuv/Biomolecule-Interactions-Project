{
 "cells": [
  {
   "cell_type": "code",
   "execution_count": 4,
   "id": "f9032363",
   "metadata": {},
   "outputs": [],
   "source": [
    "from simtk.openmm.app import *\n",
    "from simtk.openmm import *\n",
    "from simtk.unit import *\n",
    "from sys import stdout\n",
    "import os\n",
    "import time\n",
    "\n",
    "pdb = PDBFile('Structure.pdb')\n",
    "forcefield = ForceField('amber14-all.xml', 'amber14/tip3pfb.xml')\n",
    "system = forcefield.createSystem(pdb.topology, nonbondedMethod=PME,\n",
    "        nonbondedCutoff=1*nanometer, constraints=HBonds)\n",
    "\n",
    "PDBFile.writeFile(pdb.topology, pdb.positions, open('Structure-opemm.pdb','w'))\n",
    "\n",
    "checkpoint_file = 'checkpoint.cpt'\n",
    "overwrite = True\n",
    "replica = 1"
   ]
  },
  {
   "cell_type": "code",
   "execution_count": 5,
   "id": "e42c9b93",
   "metadata": {},
   "outputs": [
    {
     "name": "stdout",
     "output_type": "stream",
     "text": [
      "#\"Step\",\"Potential Energy (kJ/mole)\",\"Temperature (K)\"\n",
      "10000,-1573279.1520679782,301.1891999150847\n",
      "20000,-1575111.8788817779,300.244845624331\n",
      "30000,-1575995.0787467118,299.7155280774258\n",
      "40000,-1574188.150101061,300.36802760577183\n",
      "50000,-1575028.396619128,301.63205886417296\n",
      "60000,-1574653.8985005822,299.9492157876133\n",
      "70000,-1575179.6655556613,299.7645524689393\n",
      "80000,-1574827.341014372,300.07493618011074\n",
      "90000,-1576237.1880574727,300.66252555682547\n",
      "100000,-1580152.7619417515,300.96053366466236\n",
      "110000,-1577946.2236331608,298.83020666398954\n",
      "120000,-1576690.3202532255,302.3063379068267\n",
      "130000,-1577226.7595598078,300.5869209362111\n",
      "140000,-1575766.507767185,299.43237156745954\n",
      "150000,-1577203.6957007833,300.0477406480663\n",
      "160000,-1574987.994036981,299.59118234608104\n",
      "170000,-1573959.8190169153,298.602070624949\n",
      "180000,-1577546.940529628,301.018046421124\n",
      "190000,-1576914.4889513971,300.6257571192811\n",
      "200000,-1577855.536087465,299.12044307273175\n",
      "210000,-1576179.3619834983,299.0830945650642\n",
      "220000,-1575394.9179594696,300.5063885385584\n",
      "230000,-1574092.8678811227,299.435227633295\n",
      "240000,-1576721.883257073,301.53268895147954\n",
      "250000,-1578214.35562837,300.19097794944736\n",
      "260000,-1573951.2272458302,299.8754294071069\n",
      "270000,-1576266.6082906409,299.7511643708125\n",
      "280000,-1574590.6041906928,300.0404855259418\n",
      "290000,-1574234.1278030754,300.194197262233\n",
      "300000,-1576149.4726383316,300.2993190443402\n",
      "It ran for 30610.170156240463 s\n"
     ]
    }
   ],
   "source": [
    "integrator = LangevinMiddleIntegrator(300*kelvin, 1/picosecond, 0.002*picoseconds)\n",
    "simulation = Simulation(pdb.topology, system, integrator)\n",
    "\n",
    "if os.path.exists(checkpoint_file) and not overwrite:\n",
    "    with open(checkpoint_file, 'rb') as cpt:\n",
    "        simulation.context.loadCheckpoint(cpt.read())\n",
    "        \n",
    "else:\n",
    "    simulation.context.setPositions(pdb.positions)    \n",
    "    simulation.minimizeEnergy()\n",
    "    \n",
    "simulation.reporters.append(DCDReporter('output_structure_'+str(replica).zfill(2)+'.dcd', 100))\n",
    "simulation.reporters.append(StateDataReporter(stdout, 10000, step=True,\n",
    "        potentialEnergy=True, temperature=True))\n",
    "simulation.reporters.append(CheckpointReporter(checkpoint_file, 1000))\n",
    "start_time = time.time()\n",
    "simulation.step(300000)\n",
    "print('It ran for %s s' % (time.time() - start_time))\n"
   ]
  },
  {
   "cell_type": "code",
   "execution_count": 2,
   "id": "06307c32",
   "metadata": {},
   "outputs": [],
   "source": [
    "import mdtraj as md\n",
    "import numpy as np\n",
    "import matplotlib.pyplot as plt"
   ]
  },
  {
   "cell_type": "code",
   "execution_count": null,
   "id": "5375e710",
   "metadata": {},
   "outputs": [],
   "source": [
    "replica = 1\n",
    "traj = md.load('output_structure_'+str(replica).zfill(2)+'.dcd', top='Structure-opemm.pdb')\n",
    "traj.image_molecules(inplace=True)\n",
    "traj.save('output_structure_'+str(replica).zfill(2)+'_noPBC.dcd')"
   ]
  },
  {
   "cell_type": "code",
   "execution_count": 4,
   "id": "a301f777",
   "metadata": {},
   "outputs": [],
   "source": [
    "def distance(index1, index2):\n",
    "    \n",
    "    atom1_xyz = traj.xyz[:,index1]\n",
    "    atom2_xyz = traj.xyz[:,index2]\n",
    "\n",
    "    d = np.linalg.norm(atom1_xyz - atom2_xyz, axis=1)\n",
    "    \n",
    "    return d"
   ]
  },
  {
   "cell_type": "code",
   "execution_count": 22,
   "id": "9912dc9c",
   "metadata": {},
   "outputs": [],
   "source": [
    "atom1 = traj.topology.chain(1).residue(12).atom('CA')#Residue 1 of interest \n",
    "atom2 = traj.topology.chain(0).residue(11).atom('CA')#Residue 2 of interest (different chain)"
   ]
  },
  {
   "cell_type": "code",
   "execution_count": 23,
   "id": "a3ee169d",
   "metadata": {},
   "outputs": [
    {
     "data": {
      "text/plain": [
       "Text(0.5, 1.0, 'Distance between residues Arg24 and Asp1217 WT')"
      ]
     },
     "execution_count": 23,
     "metadata": {},
     "output_type": "execute_result"
    },
    {
     "data": {
      "image/png": "[encoded data removed]",
      "text/plain": [
       "<Figure size 432x288 with 1 Axes>"
      ]
     },
     "metadata": {
      "needs_background": "light"
     },
     "output_type": "display_data"
    }
   ],
   "source": [
    "plt.plot(distance(atom1.index, atom2.index))\n",
    "\n",
    "plt.ylim(0.5,1.5)\n",
    "plt.ylabel('Distance [10¹ Angstroms]')\n",
    "plt.xlabel('Steps [0,2ps]')\n",
    "plt.title('Distance between residues X and Y')\n",
    "\n",
    "axes = plt.gca()\n",
    "y_min, y_max = axes.get_ylim()\n",
    "print(y_min, y_max)"
   ]
  }
 ],
 "metadata": {
  "kernelspec": {
   "display_name": "Python 3",
   "language": "python",
   "name": "python3"
  },
  "language_info": {
   "codemirror_mode": {
    "name": "ipython",
    "version": 3
   },
   "file_extension": ".py",
   "mimetype": "text/x-python",
   "name": "python",
   "nbconvert_exporter": "python",
   "pygments_lexer": "ipython3",
   "version": "3.8.10"
  }
 },
 "nbformat": 4,
 "nbformat_minor": 5
}
